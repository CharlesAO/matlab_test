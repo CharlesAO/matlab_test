{
 "cells": [
  {
   "cell_type": "markdown",
   "metadata": {},
   "source": [
    "## Tex Preamble\n",
    "$$\n",
    "\\newcommand{\\bm}[1]{{\\bf #1}}\n",
    "\\newcommand{\\eq}[1]{Eq.(\\ref{eq:#1})}\n",
    "\\newcommand{\\zu}[1]{図\\ref{fig:#1}}\n",
    "\\newcommand{\\shiki}[1]{式(\\ref{eq:#1})}\n",
    "\\newcommand{\\fig}[1]{Fig.\\ \\ref{fig:#1}}\n",
    "\\newcommand{\\grp}[1]{Fig.\\ \\ref{grp:#1}}\n",
    "\\newcommand{\\tab}[1]{Table\\ \\ref{tab:#1}}\n",
    "\\newcommand{\\defeq}{:=}\n",
    "\\newcommand{\\tvec}[1]{\\bvec{#1}^{\\mathsf{T}}} \n",
    "\\newcommand{\\mr}[1]{\\mathrm{#1}}%rm体\n",
    "\\newcommand{\\ml}[1]{\\mathcal{#1}}%frac体\n",
    "\\newcommand{\\bmat}[1]{\\begin{bmatrix} #1 \\end{bmatrix}}%行列簡略化\n",
    "\\newcommand{\\pmat}[1]{\\begin{pmatrix} #1 \\end{pmatrix}}%行列簡略化\n",
    "\\newcommand{\\mat}[1]{\\left( \\begin{matrix} #1 \\end{matrix} \\right)}%行列簡略化\n",
    "%\\newcommand{\\nom}[1]{ \\ml{N} \\{ 0,\\sigma_{ #1 } \\} }\n",
    "\\newcommand{\\expo}[1]{ \\mathrm{e}^{#1} }\n",
    "$$"
   ]
  },
  {
   "cell_type": "markdown",
   "metadata": {},
   "source": [
    "$\\bm{A}=\\pmat{1 & 2\\\\3&4}$"
   ]
  }
 ],
 "metadata": {
  "kernelspec": {
   "display_name": "Matlab",
   "language": "matlab",
   "name": "matlab"
  },
  "language_info": {
   "codemirror_mode": "octave",
   "file_extension": ".m",
   "help_links": [
    {
     "text": "MetaKernel Magics",
     "url": "https://github.com/calysto/metakernel/blob/master/metakernel/magics/README.md"
    }
   ],
   "mimetype": "text/x-octave",
   "name": "matlab",
   "version": "0.15.0"
  }
 },
 "nbformat": 4,
 "nbformat_minor": 2
}
